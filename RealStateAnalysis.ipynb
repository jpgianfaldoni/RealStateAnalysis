{
 "cells": [
  {
   "cell_type": "code",
   "execution_count": 62,
   "metadata": {},
   "outputs": [],
   "source": [
    "from bs4 import BeautifulSoup\n",
    "import urllib\n",
    "from functools import partial\n",
    "import re\n",
    "from selenium import webdriver\n",
    "from selenium.webdriver.chrome.options import Options\n",
    "from webdriver_manager.chrome import ChromeDriverManager\n",
    "from selenium.webdriver.chrome.service import Service\n",
    "from selenium.webdriver.common.by import By\n",
    "import time"
   ]
  },
  {
   "cell_type": "code",
   "execution_count": 110,
   "metadata": {},
   "outputs": [],
   "source": [
    "driver = webdriver.Chrome(service=Service(ChromeDriverManager().install()))\n",
    "driver.set_page_load_timeout(60)\n"
   ]
  },
  {
   "cell_type": "code",
   "execution_count": 111,
   "metadata": {},
   "outputs": [],
   "source": [
    "url = 'https://www.quintoandar.com.br/comprar/imovel/sao-paulo-sp-brasil'\n",
    "driver.get(url)\n",
    "driver.implicitly_wait(10)"
   ]
  },
  {
   "cell_type": "code",
   "execution_count": 112,
   "metadata": {},
   "outputs": [],
   "source": [
    "enderecos = []\n",
    "regioes = []\n",
    "valores = []\n",
    "outras_informacoes = []"
   ]
  },
  {
   "cell_type": "code",
   "execution_count": 113,
   "metadata": {},
   "outputs": [],
   "source": [
    "div = driver.find_element(By.CLASS_NAME,\"sc-18lu2ht-0\")\n",
    "time.sleep(10)\n",
    "for i in range(5):\n",
    "    enderecos.append([x.text for x in driver.find_elements(By.CSS_SELECTOR, 'span[data-testid=\"house-card-address\"]')])\n",
    "    regioes.append([x.text for x in driver.find_elements(By.CSS_SELECTOR, 'span[data-testid=\"house-card-region\"]')])\n",
    "    valores.append([x.text for x in  driver.find_elements(By.CSS_SELECTOR, 'h3[data-testid=\"house-card-rent\"]')])\n",
    "    outras_informacoes.append(driver.find_elements(By.CLASS_NAME, 'sc-gsnTZi.iEPiQX.sc-crXcEl.jddosl.CozyTypography'))\n",
    "    driver.execute_script(\"arguments[0].scrollBy(0, 500);\", div)\n"
   ]
  },
  {
   "cell_type": "code",
   "execution_count": 114,
   "metadata": {},
   "outputs": [],
   "source": [
    "enderecos = [item for sublist in enderecos for item in sublist]\n",
    "regioes = [item for sublist in regioes for item in sublist]\n",
    "valores = [item for sublist in valores for item in sublist]\n",
    "outras_informacoes = [item for sublist in outras_informacoes for item in sublist]"
   ]
  },
  {
   "cell_type": "code",
   "execution_count": 78,
   "metadata": {},
   "outputs": [],
   "source": [
    "metragem = []\n",
    "n_quartos = []\n",
    "n_vagas = []\n",
    "tipo_imovel = []\n",
    "for info in outras_informacoes:\n",
    "    splited_info  = info.text.split('•')\n",
    "    metragem.append(splited_info[0])\n",
    "    n_quartos.append(splited_info[1])\n",
    "    n_vagas.append(splited_info[2])\n",
    "    tipo_imovel.append(splited_info[3])"
   ]
  }
 ],
 "metadata": {
  "kernelspec": {
   "display_name": "Python 3",
   "language": "python",
   "name": "python3"
  },
  "language_info": {
   "codemirror_mode": {
    "name": "ipython",
    "version": 3
   },
   "file_extension": ".py",
   "mimetype": "text/x-python",
   "name": "python",
   "nbconvert_exporter": "python",
   "pygments_lexer": "ipython3",
   "version": "3.8.16"
  },
  "orig_nbformat": 4,
  "vscode": {
   "interpreter": {
    "hash": "0adcc2737ebf6a4a119f135174df96668767fca1ef1112612db5ecadf2b6d608"
   }
  }
 },
 "nbformat": 4,
 "nbformat_minor": 2
}
