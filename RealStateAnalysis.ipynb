{
 "cells": [
  {
   "cell_type": "code",
   "execution_count": null,
   "metadata": {},
   "outputs": [],
   "source": [
    "from bs4 import BeautifulSoup\n",
    "import pandas as pd\n",
    "from functools import partial\n",
    "from selenium import webdriver\n",
    "from selenium.webdriver.chrome.options import Options\n",
    "from webdriver_manager.chrome import ChromeDriverManager\n",
    "from selenium.webdriver.chrome.service import Service\n",
    "from selenium.webdriver.common.by import By\n",
    "import time"
   ]
  },
  {
   "cell_type": "code",
   "execution_count": null,
   "metadata": {},
   "outputs": [],
   "source": [
    "driver = webdriver.Chrome(service=Service(ChromeDriverManager().install()))\n",
    "driver.set_page_load_timeout(60)\n"
   ]
  },
  {
   "cell_type": "code",
   "execution_count": null,
   "metadata": {},
   "outputs": [],
   "source": [
    "url = 'https://www.quintoandar.com.br/comprar/imovel/sao-paulo-sp-brasil'\n",
    "driver.get(url)\n",
    "driver.implicitly_wait(10)"
   ]
  },
  {
   "cell_type": "code",
   "execution_count": null,
   "metadata": {},
   "outputs": [],
   "source": [
    "enderecos = []\n",
    "regioes = []\n",
    "tipos_valores = []\n",
    "outras_informacoes = []\n"
   ]
  },
  {
   "cell_type": "code",
   "execution_count": null,
   "metadata": {},
   "outputs": [],
   "source": [
    "div = driver.find_element(By.CLASS_NAME,\"sc-1y4z098-0.geAIvx\")\n",
    "time.sleep(2)\n",
    "for i in range(30):\n",
    "    enderecos.append([x.text for x in driver.find_elements(By.CSS_SELECTOR, 'span[data-testid=\"house-card-address\"]')])\n",
    "    regioes.append([x.text for x in driver.find_elements(By.CSS_SELECTOR, 'span[data-testid=\"house-card-region\"]')])\n",
    "    tipos_valores.append([x.text for x in  driver.find_elements(By.CLASS_NAME, 'sc-gsnTZi.iRsaMY.sc-crXcEl.jddosl.CozyTypography')])\n",
    "    outras_informacoes.append(driver.find_elements(By.CSS_SELECTOR, 'small[data-testid=\"house-card-area\"]'))\n",
    "    driver.execute_script(\"arguments[0].scrollBy(0, 500);\", div)\n"
   ]
  },
  {
   "cell_type": "code",
   "execution_count": null,
   "metadata": {},
   "outputs": [],
   "source": [
    "outras_informacoes_clean = []\n",
    "for i in outras_informacoes:\n",
    "    for j in i:\n",
    "        outras_informacoes_clean.append(j.text)"
   ]
  },
  {
   "cell_type": "code",
   "execution_count": null,
   "metadata": {},
   "outputs": [],
   "source": [
    "enderecos = [item for sublist in enderecos for item in sublist]\n",
    "regioes = [item for sublist in regioes for item in sublist]\n",
    "tipos_valores = [item for sublist in tipos_valores for item in sublist]\n"
   ]
  },
  {
   "cell_type": "code",
   "execution_count": null,
   "metadata": {},
   "outputs": [],
   "source": [
    "tipo = []\n",
    "valores = []\n",
    "\n",
    "for i in range(len(tipos_valores)):\n",
    "    if tipos_valores[i].startswith(\"R$\"):\n",
    "        valores.append(tipos_valores[i])\n",
    "    else:\n",
    "        tipo.append(tipos_valores[i])"
   ]
  },
  {
   "cell_type": "code",
   "execution_count": null,
   "metadata": {},
   "outputs": [],
   "source": [
    "metragem = []\n",
    "n_quartos = []\n",
    "n_vagas = []\n",
    "for info in outras_informacoes_clean:\n",
    "    splited_info  = info.split('•')\n",
    "    metragem.append(int(splited_info[0].strip('m² ')))\n",
    "    n_quartos.append(int(splited_info[1].strip(\" quartos \")))\n",
    "    n_vagas.append(int((splited_info[2].strip(\" vagas \"))))\n",
    "\n"
   ]
  },
  {
   "cell_type": "code",
   "execution_count": null,
   "metadata": {},
   "outputs": [],
   "source": [
    "valores = [item.strip(\"R$ \").replace(\".\",\"\")  for item in valores]\n",
    "regioes = [item.strip(\"São Paulo\").strip(',')  for item in regioes]\n"
   ]
  },
  {
   "cell_type": "code",
   "execution_count": null,
   "metadata": {},
   "outputs": [],
   "source": [
    "real_state = {\"tipo\": tipo, \"enderecos\" : enderecos, \"regioes\" :  regioes, \"valores\" : valores, \"metragem\" : metragem, \"n_quartos\" : n_quartos, \"n_vagas\" : n_vagas}"
   ]
  },
  {
   "cell_type": "code",
   "execution_count": null,
   "metadata": {},
   "outputs": [],
   "source": [
    "df = pd.DataFrame(real_state)\n"
   ]
  },
  {
   "cell_type": "code",
   "execution_count": null,
   "metadata": {},
   "outputs": [],
   "source": [
    "df.to_csv(\"real_state.csv\", index=False)"
   ]
  },
  {
   "cell_type": "code",
   "execution_count": null,
   "metadata": {},
   "outputs": [],
   "source": [
    "df = pd.read_csv(\"real_state.csv\")"
   ]
  }
 ],
 "metadata": {
  "kernelspec": {
   "display_name": "Python 3",
   "language": "python",
   "name": "python3"
  },
  "language_info": {
   "codemirror_mode": {
    "name": "ipython",
    "version": 3
   },
   "file_extension": ".py",
   "mimetype": "text/x-python",
   "name": "python",
   "nbconvert_exporter": "python",
   "pygments_lexer": "ipython3",
   "version": "3.8.16"
  },
  "orig_nbformat": 4,
  "vscode": {
   "interpreter": {
    "hash": "0adcc2737ebf6a4a119f135174df96668767fca1ef1112612db5ecadf2b6d608"
   }
  }
 },
 "nbformat": 4,
 "nbformat_minor": 2
}
