{
 "cells": [
  {
   "cell_type": "code",
   "execution_count": 1,
   "metadata": {},
   "outputs": [],
   "source": [
    "from bs4 import BeautifulSoup\n",
    "import pandas as pd\n",
    "from selenium import webdriver\n",
    "from selenium.webdriver.support.ui import WebDriverWait\n",
    "from webdriver_manager.chrome import ChromeDriverManager\n",
    "from selenium.webdriver.chrome.service import Service\n",
    "from selenium.webdriver.common.by import By\n",
    "from selenium.webdriver.support import expected_conditions as EC\n",
    "import time\n",
    "import os\n",
    "from sklearn.model_selection import train_test_split\n",
    "from sklearn.preprocessing import OneHotEncoder\n",
    "from sklearn.linear_model import LinearRegression\n",
    "from sklearn.ensemble import RandomForestRegressor\n",
    "from sklearn.metrics import r2_score\n",
    "from sklearn.preprocessing import LabelEncoder\n"
   ]
  },
  {
   "cell_type": "code",
   "execution_count": 2,
   "metadata": {},
   "outputs": [],
   "source": [
    "def get_dataset(url, file_name):\n",
    "    \n",
    "    print(\"Getting page url\")\n",
    "    driver = webdriver.Chrome(service=Service(ChromeDriverManager().install()))\n",
    "    driver.set_page_load_timeout(60)\n",
    "    driver.get(url)\n",
    "    \n",
    "    WebDriverWait(driver, 20).until(EC.visibility_of_element_located((By.CLASS_NAME, \"sc-ftvSup.xPMpo\")))\n",
    "    \n",
    "    print(\"Loading more information\")\n",
    "\n",
    "       \n",
    "    print(\"Collecting data\")\n",
    "    enderecos = []\n",
    "    regioes = []\n",
    "    tipos_valores = []\n",
    "    outras_informacoes = []\n",
    "    for i in range(50):\n",
    "        enderecos.append([x.text for x in driver.find_elements(By.CSS_SELECTOR, 'span[data-testid=\"house-card-address\"]')])\n",
    "        regioes.append([x.text for x in driver.find_elements(By.CSS_SELECTOR, 'span[data-testid=\"house-card-region\"]')])\n",
    "        tipos_valores.append([x.text for x in  driver.find_elements(By.CLASS_NAME, 'sc-gsnTZi.iRsaMY.sc-crXcEl.jddosl.CozyTypography')])\n",
    "        outras_informacoes.append(driver.find_elements(By.CSS_SELECTOR, 'small[data-testid=\"house-card-area\"]'))\n",
    "        WebDriverWait(driver, 20).until(EC.visibility_of_element_located((By.CLASS_NAME, \"sc-ftvSup.xPMpo\")))\n",
    "        elem = driver.find_elements(By.CLASS_NAME, \"sc-ftvSup.xPMpo\")\n",
    "        elem[0].click()\n",
    "        time.sleep(1)\n",
    "        print(i)\n",
    "\n",
    "\n",
    "    outras_informacoes_clean = []\n",
    "    for i in outras_informacoes:\n",
    "        for j in i:\n",
    "            outras_informacoes_clean.append(j.text)\n",
    "\n",
    "    enderecos = [item for sublist in enderecos for item in sublist]\n",
    "    regioes = [item for sublist in regioes for item in sublist]\n",
    "    tipos_valores = [item for sublist in tipos_valores for item in sublist]\n",
    "\n",
    "    tipo = []\n",
    "    valores = []\n",
    "\n",
    "    for i in range(len(tipos_valores)):\n",
    "        if tipos_valores[i].startswith(\"R$\"):\n",
    "            valores.append(tipos_valores[i])\n",
    "        else:\n",
    "            tipo.append(tipos_valores[i])\n",
    "    metragem = []\n",
    "    n_quartos = []\n",
    "    n_vagas = []\n",
    "    for info in outras_informacoes_clean:\n",
    "        splited_info  = info.split('•')\n",
    "        metragem.append(int(splited_info[0].strip('m² ')))\n",
    "        n_quartos.append(int(splited_info[1].strip(\" quartos \")))\n",
    "        n_vagas.append(int((splited_info[2].strip(\" vagas \"))))\n",
    "    valores = [item.strip(\"R$ \").replace(\".\",\"\")  for item in valores]\n",
    "    regioes = [item.strip(\"R$ \").replace(\".\",\"\") for item in regioes]\n",
    "    \n",
    "    print(\"Building the dataset\")\n",
    "\n",
    "    real_state = {\"tipo\": tipo, \"enderecos\" : enderecos, \"regioes\" :  regioes, \"valores\" : valores, \"metragem\" : metragem, \"n_quartos\" : n_quartos, \"n_vagas\" : n_vagas}\n",
    "    df = pd.DataFrame(real_state)\n",
    "    df.to_csv(file_name, index=False)\n",
    "    \n",
    "    print(\"Done\")\n"
   ]
  },
  {
   "cell_type": "code",
   "execution_count": 3,
   "metadata": {},
   "outputs": [],
   "source": [
    "file_name= \"real_state.csv\"\n",
    "if not os.path.exists(file_name):\n",
    "    get_dataset('https://www.quintoandar.com.br/comprar/imovel/pinheiros-sao-paulo-sp-brasil', file_name)\n",
    "df = pd.read_csv(file_name)"
   ]
  },
  {
   "cell_type": "code",
   "execution_count": 4,
   "metadata": {},
   "outputs": [],
   "source": [
    "df = df.drop_duplicates()"
   ]
  },
  {
   "cell_type": "code",
   "execution_count": 5,
   "metadata": {},
   "outputs": [
    {
     "data": {
      "text/plain": [
       "Rua Fernão Dias              36\n",
       "Rua Fradique Coutinho        35\n",
       "Rua Cardeal Arcoverde        30\n",
       "Rua Teodoro Sampaio          28\n",
       "Rua Mourato Coelho           28\n",
       "                             ..\n",
       "Conselheiro Pereira Pinto     1\n",
       "Mourato Coelho                1\n",
       "Rua dos Cariris               1\n",
       "Rua Marcos Azevedo            1\n",
       "Antônio da Silveira           1\n",
       "Name: enderecos, Length: 90, dtype: int64"
      ]
     },
     "execution_count": 5,
     "metadata": {},
     "output_type": "execute_result"
    }
   ],
   "source": [
    "df.enderecos.value_counts()"
   ]
  },
  {
   "cell_type": "code",
   "execution_count": 6,
   "metadata": {},
   "outputs": [],
   "source": [
    "\n",
    "label_encoder = LabelEncoder()\n",
    "\n",
    "df['rua_encoded'] = label_encoder.fit_transform(df['enderecos'])"
   ]
  },
  {
   "cell_type": "code",
   "execution_count": 7,
   "metadata": {},
   "outputs": [],
   "source": [
    "df = df.drop(columns=[\"enderecos\", \"regioes\"] )"
   ]
  },
  {
   "cell_type": "code",
   "execution_count": 8,
   "metadata": {},
   "outputs": [],
   "source": [
    "ohe = OneHotEncoder()\n",
    "transformed = ohe.fit_transform(df[['tipo']])\n",
    "df = df.drop(columns=['tipo'])\n",
    "df[ohe.categories_[0]] = transformed.toarray()"
   ]
  },
  {
   "cell_type": "code",
   "execution_count": 9,
   "metadata": {},
   "outputs": [
    {
     "data": {
      "text/html": [
       "<div>\n",
       "<style scoped>\n",
       "    .dataframe tbody tr th:only-of-type {\n",
       "        vertical-align: middle;\n",
       "    }\n",
       "\n",
       "    .dataframe tbody tr th {\n",
       "        vertical-align: top;\n",
       "    }\n",
       "\n",
       "    .dataframe thead th {\n",
       "        text-align: right;\n",
       "    }\n",
       "</style>\n",
       "<table border=\"1\" class=\"dataframe\">\n",
       "  <thead>\n",
       "    <tr style=\"text-align: right;\">\n",
       "      <th></th>\n",
       "      <th>valores</th>\n",
       "      <th>metragem</th>\n",
       "      <th>n_quartos</th>\n",
       "      <th>n_vagas</th>\n",
       "      <th>rua_encoded</th>\n",
       "      <th>Apartamento</th>\n",
       "      <th>Casa</th>\n",
       "      <th>Studio e kitnet</th>\n",
       "    </tr>\n",
       "  </thead>\n",
       "  <tbody>\n",
       "    <tr>\n",
       "      <th>0</th>\n",
       "      <td>1250000</td>\n",
       "      <td>85</td>\n",
       "      <td>2</td>\n",
       "      <td>2</td>\n",
       "      <td>77</td>\n",
       "      <td>1.0</td>\n",
       "      <td>0.0</td>\n",
       "      <td>0.0</td>\n",
       "    </tr>\n",
       "    <tr>\n",
       "      <th>1</th>\n",
       "      <td>820000</td>\n",
       "      <td>44</td>\n",
       "      <td>2</td>\n",
       "      <td>1</td>\n",
       "      <td>40</td>\n",
       "      <td>1.0</td>\n",
       "      <td>0.0</td>\n",
       "      <td>0.0</td>\n",
       "    </tr>\n",
       "    <tr>\n",
       "      <th>2</th>\n",
       "      <td>1380000</td>\n",
       "      <td>110</td>\n",
       "      <td>3</td>\n",
       "      <td>1</td>\n",
       "      <td>40</td>\n",
       "      <td>1.0</td>\n",
       "      <td>0.0</td>\n",
       "      <td>0.0</td>\n",
       "    </tr>\n",
       "    <tr>\n",
       "      <th>3</th>\n",
       "      <td>780000</td>\n",
       "      <td>69</td>\n",
       "      <td>2</td>\n",
       "      <td>2</td>\n",
       "      <td>30</td>\n",
       "      <td>1.0</td>\n",
       "      <td>0.0</td>\n",
       "      <td>0.0</td>\n",
       "    </tr>\n",
       "    <tr>\n",
       "      <th>4</th>\n",
       "      <td>850000</td>\n",
       "      <td>65</td>\n",
       "      <td>2</td>\n",
       "      <td>1</td>\n",
       "      <td>56</td>\n",
       "      <td>1.0</td>\n",
       "      <td>0.0</td>\n",
       "      <td>0.0</td>\n",
       "    </tr>\n",
       "    <tr>\n",
       "      <th>...</th>\n",
       "      <td>...</td>\n",
       "      <td>...</td>\n",
       "      <td>...</td>\n",
       "      <td>...</td>\n",
       "      <td>...</td>\n",
       "      <td>...</td>\n",
       "      <td>...</td>\n",
       "      <td>...</td>\n",
       "    </tr>\n",
       "    <tr>\n",
       "      <th>14020</th>\n",
       "      <td>1200000</td>\n",
       "      <td>97</td>\n",
       "      <td>3</td>\n",
       "      <td>0</td>\n",
       "      <td>22</td>\n",
       "      <td>1.0</td>\n",
       "      <td>0.0</td>\n",
       "      <td>0.0</td>\n",
       "    </tr>\n",
       "    <tr>\n",
       "      <th>14021</th>\n",
       "      <td>3000000</td>\n",
       "      <td>230</td>\n",
       "      <td>4</td>\n",
       "      <td>0</td>\n",
       "      <td>24</td>\n",
       "      <td>0.0</td>\n",
       "      <td>1.0</td>\n",
       "      <td>0.0</td>\n",
       "    </tr>\n",
       "    <tr>\n",
       "      <th>14022</th>\n",
       "      <td>2100000</td>\n",
       "      <td>343</td>\n",
       "      <td>0</td>\n",
       "      <td>5</td>\n",
       "      <td>20</td>\n",
       "      <td>0.0</td>\n",
       "      <td>1.0</td>\n",
       "      <td>0.0</td>\n",
       "    </tr>\n",
       "    <tr>\n",
       "      <th>14023</th>\n",
       "      <td>1600000</td>\n",
       "      <td>139</td>\n",
       "      <td>3</td>\n",
       "      <td>1</td>\n",
       "      <td>1</td>\n",
       "      <td>0.0</td>\n",
       "      <td>1.0</td>\n",
       "      <td>0.0</td>\n",
       "    </tr>\n",
       "    <tr>\n",
       "      <th>14024</th>\n",
       "      <td>4500000</td>\n",
       "      <td>210</td>\n",
       "      <td>3</td>\n",
       "      <td>0</td>\n",
       "      <td>70</td>\n",
       "      <td>0.0</td>\n",
       "      <td>1.0</td>\n",
       "      <td>0.0</td>\n",
       "    </tr>\n",
       "  </tbody>\n",
       "</table>\n",
       "<p>534 rows × 8 columns</p>\n",
       "</div>"
      ],
      "text/plain": [
       "       valores  metragem  n_quartos  n_vagas  rua_encoded  Apartamento  Casa  \\\n",
       "0      1250000        85          2        2           77          1.0   0.0   \n",
       "1       820000        44          2        1           40          1.0   0.0   \n",
       "2      1380000       110          3        1           40          1.0   0.0   \n",
       "3       780000        69          2        2           30          1.0   0.0   \n",
       "4       850000        65          2        1           56          1.0   0.0   \n",
       "...        ...       ...        ...      ...          ...          ...   ...   \n",
       "14020  1200000        97          3        0           22          1.0   0.0   \n",
       "14021  3000000       230          4        0           24          0.0   1.0   \n",
       "14022  2100000       343          0        5           20          0.0   1.0   \n",
       "14023  1600000       139          3        1            1          0.0   1.0   \n",
       "14024  4500000       210          3        0           70          0.0   1.0   \n",
       "\n",
       "       Studio e kitnet  \n",
       "0                  0.0  \n",
       "1                  0.0  \n",
       "2                  0.0  \n",
       "3                  0.0  \n",
       "4                  0.0  \n",
       "...                ...  \n",
       "14020              0.0  \n",
       "14021              0.0  \n",
       "14022              0.0  \n",
       "14023              0.0  \n",
       "14024              0.0  \n",
       "\n",
       "[534 rows x 8 columns]"
      ]
     },
     "execution_count": 9,
     "metadata": {},
     "output_type": "execute_result"
    }
   ],
   "source": [
    "df"
   ]
  },
  {
   "cell_type": "code",
   "execution_count": 10,
   "metadata": {},
   "outputs": [],
   "source": [
    "X = df.drop(columns=[\"valores\"])\n",
    "y = df.valores\n",
    "X_train, X_test, y_train, y_test = train_test_split(X, y, test_size=0.2, random_state=42)\n"
   ]
  },
  {
   "cell_type": "code",
   "execution_count": 11,
   "metadata": {},
   "outputs": [],
   "source": [
    "linear_regression = LinearRegression()\n",
    "\n",
    "linear_regression.fit(X_train, y_train)\n",
    "\n",
    "y_pred = linear_regression.predict(X_test)"
   ]
  },
  {
   "cell_type": "code",
   "execution_count": 12,
   "metadata": {},
   "outputs": [
    {
     "name": "stdout",
     "output_type": "stream",
     "text": [
      "R-squared Score: 0.41259434528175465\n"
     ]
    }
   ],
   "source": [
    "r2 = r2_score(y_test, y_pred)\n",
    "\n",
    "print(\"R-squared Score:\", r2)"
   ]
  },
  {
   "cell_type": "code",
   "execution_count": 16,
   "metadata": {},
   "outputs": [
    {
     "name": "stdout",
     "output_type": "stream",
     "text": [
      "R-squared Score: 0.6119924725080088\n"
     ]
    }
   ],
   "source": [
    "rf = RandomForestRegressor(n_estimators=10, random_state=10)\n",
    "rf.fit(X_train, y_train)\n",
    "\n",
    "y_pred = rf.predict(X_test)\n",
    "r2 = r2_score(y_test, y_pred)\n",
    "\n",
    "print(\"R-squared Score:\", r2)"
   ]
  }
 ],
 "metadata": {
  "kernelspec": {
   "display_name": "Python 3",
   "language": "python",
   "name": "python3"
  },
  "language_info": {
   "codemirror_mode": {
    "name": "ipython",
    "version": 3
   },
   "file_extension": ".py",
   "mimetype": "text/x-python",
   "name": "python",
   "nbconvert_exporter": "python",
   "pygments_lexer": "ipython3",
   "version": "3.8.16"
  },
  "vscode": {
   "interpreter": {
    "hash": "0adcc2737ebf6a4a119f135174df96668767fca1ef1112612db5ecadf2b6d608"
   }
  }
 },
 "nbformat": 4,
 "nbformat_minor": 2
}
